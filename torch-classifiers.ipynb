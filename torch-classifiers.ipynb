{
 "cells": [
  {
   "cell_type": "code",
   "execution_count": 192,
   "metadata": {},
   "outputs": [],
   "source": [
    "import torch\n",
    "import torch.nn as nn\n",
    "from torch.utils.data import DataLoader\n",
    "from torchvision import datasets\n",
    "from torchvision.transforms import ToTensor\n",
    "import matplotlib.pyplot as plt"
   ]
  },
  {
   "cell_type": "code",
   "execution_count": 249,
   "metadata": {},
   "outputs": [],
   "source": [
    "train_data = datasets.MNIST(root=\"/data\", download=True, train=True, transform=ToTensor())\n",
    "test_data = datasets.MNIST(root=\"/data\", train=False, download=True, transform=ToTensor())"
   ]
  },
  {
   "cell_type": "code",
   "execution_count": 250,
   "metadata": {},
   "outputs": [
    {
     "data": {
      "text/plain": [
       "<matplotlib.image.AxesImage at 0x20113019348>"
      ]
     },
     "execution_count": 250,
     "metadata": {},
     "output_type": "execute_result"
    },
    {
     "data": {
      "image/png": "[encoded data removed]",
      "text/plain": [
       "<Figure size 640x480 with 1 Axes>"
      ]
     },
     "metadata": {},
     "output_type": "display_data"
    }
   ],
   "source": [
    "# dataset object contains (PIL Image, label) pairs\n",
    "plt.imshow(test_data.__getitem__(10)[0].reshape(28,28))"
   ]
  },
  {
   "cell_type": "code",
   "execution_count": 251,
   "metadata": {},
   "outputs": [],
   "source": [
    "bs = 32\n",
    "train_dataloader = DataLoader(train_data, batch_size=bs, shuffle=True)\n",
    "test_dataloader = DataLoader(test_data, batch_size=bs, shuffle=True)"
   ]
  },
  {
   "cell_type": "code",
   "execution_count": 252,
   "metadata": {},
   "outputs": [],
   "source": [
    "# Making an iterator out of a dataloader object returns an iterator\n",
    "# retrieving batch tensors of (batch_size, data_dim), (batch_size) (1-dim label)\n",
    "data_iter = iter(train_dataloader)\n",
    "train_features, train_labels = next(data_iter)\n",
    "img = train_features[0].squeeze() # Crush redundant dim"
   ]
  },
  {
   "cell_type": "code",
   "execution_count": 253,
   "metadata": {},
   "outputs": [
    {
     "name": "stdout",
     "output_type": "stream",
     "text": [
      "Using device: cuda\n"
     ]
    }
   ],
   "source": [
    "device = \"cuda\" if torch.cuda.is_available() else \"cpu\"\n",
    "print(f\"Using device: {device}\")\n"
   ]
  },
  {
   "cell_type": "code",
   "execution_count": 254,
   "metadata": {},
   "outputs": [],
   "source": [
    "# model\n",
    "class MyNetwork(nn.Module):\n",
    "    def __init__(self):\n",
    "        super().__init__()\n",
    "        self.flatten = nn.Flatten()\n",
    "        self.fc1 = nn.Linear(28*28, 100)\n",
    "        self.relu1 = nn.ReLU()\n",
    "        self.fc2 = nn.Linear(100, 10)\n",
    "\n",
    "    def forward(self, x):\n",
    "        x = self.flatten(x)\n",
    "        x = self.fc1(x)\n",
    "        x = self.relu1(x)\n",
    "        logits = self.fc2(x)\n",
    "        return logits"
   ]
  },
  {
   "cell_type": "code",
   "execution_count": 255,
   "metadata": {},
   "outputs": [],
   "source": [
    "model = MyNetwork().to(device)"
   ]
  },
  {
   "cell_type": "code",
   "execution_count": 257,
   "metadata": {},
   "outputs": [
    {
     "data": {
      "text/plain": [
       "Dataset MNIST\n",
       "    Number of datapoints: 60000\n",
       "    Root location: /data\n",
       "    Split: Train\n",
       "    StandardTransform\n",
       "Transform: ToTensor()"
      ]
     },
     "execution_count": 257,
     "metadata": {},
     "output_type": "execute_result"
    }
   ],
   "source": [
    "learning_rate = 1e-2\n",
    "epochs = 5\n",
    "\n",
    "loss_fn = nn.CrossEntropyLoss()\n",
    "optimizer = torch.optim.Adam(model.parameters())\n",
    "train_dataloader.dataset"
   ]
  },
  {
   "cell_type": "code",
   "execution_count": 258,
   "metadata": {},
   "outputs": [],
   "source": [
    "optimizer.zero_grad()\n",
    "def train(dataloader, model, loss_fn, optimizer):\n",
    "    size = len(dataloader.dataset) # you can call len on this\n",
    "    for batch, (X, y) in enumerate(dataloader):\n",
    "        X, y = X.to(device), y.to(device)\n",
    "        prediction = model(X)\n",
    "        loss = loss_fn(prediction, y)\n",
    "\n",
    "        # backprop\n",
    "        optimizer.zero_grad() # zero grads\n",
    "        loss.backward()       # accumulate grads\n",
    "        optimizer.step()      # take gradient descent step\n",
    "\n",
    "        if batch % 100 == 0:\n",
    "            loss, current = loss.item(), batch * len(X)\n",
    "            print(f\"loss: {loss:>7f} [{current:>5d} / {size:>5d}]\")\n",
    "\n",
    "def test(dataloader, model, loss_fn):\n",
    "    size = len(dataloader.dataset)\n",
    "    num_batches = len(dataloader)\n",
    "    test_loss, correct = 0, 0\n",
    "    \n",
    "    for (X, y) in dataloader:\n",
    "        with torch.no_grad():\n",
    "            X, y = X.to(device), y.to(device)\n",
    "            prediction = model(X)\n",
    "            loss = loss_fn(prediction, y)\n",
    "            test_loss += loss.item()\n",
    "            correct += (prediction.argmax(1) == y).type(torch.float).sum().item()\n",
    "\n",
    "    test_loss /= num_batches\n",
    "    correct /= size\n",
    "    print(f\"Test Error: \\n Accuracy: {(100*correct):>0.1f}% Avg loss: {test_loss:>8f} \\n\")"
   ]
  },
  {
   "cell_type": "code",
   "execution_count": 239,
   "metadata": {},
   "outputs": [
    {
     "name": "stdout",
     "output_type": "stream",
     "text": [
      "Beginning of epoch 0\n",
      "loss: 0.055693 [    0 / 60000]\n",
      "loss: 0.052837 [ 6400 / 60000]\n",
      "loss: 0.023599 [12800 / 60000]\n",
      "loss: 0.115133 [19200 / 60000]\n",
      "loss: 0.016677 [25600 / 60000]\n",
      "loss: 0.048215 [32000 / 60000]\n",
      "loss: 0.017355 [38400 / 60000]\n",
      "loss: 0.138398 [44800 / 60000]\n",
      "loss: 0.067305 [51200 / 60000]\n",
      "loss: 0.064794 [57600 / 60000]\n",
      "Test Error: \n",
      " Accuracy: 97.4% Avg loss: 0.083370 \n",
      "\n",
      "Beginning of epoch 1\n",
      "loss: 0.014096 [    0 / 60000]\n",
      "loss: 0.079831 [ 6400 / 60000]\n",
      "loss: 0.037978 [12800 / 60000]\n",
      "loss: 0.025076 [19200 / 60000]\n",
      "loss: 0.085502 [25600 / 60000]\n",
      "loss: 0.160246 [32000 / 60000]\n",
      "loss: 0.101825 [38400 / 60000]\n",
      "loss: 0.046185 [44800 / 60000]\n",
      "loss: 0.078809 [51200 / 60000]\n",
      "loss: 0.038848 [57600 / 60000]\n",
      "Test Error: \n",
      " Accuracy: 97.5% Avg loss: 0.080647 \n",
      "\n",
      "Beginning of epoch 2\n",
      "loss: 0.074515 [    0 / 60000]\n",
      "loss: 0.079963 [ 6400 / 60000]\n",
      "loss: 0.020363 [12800 / 60000]\n",
      "loss: 0.028507 [19200 / 60000]\n",
      "loss: 0.026666 [25600 / 60000]\n",
      "loss: 0.051270 [32000 / 60000]\n",
      "loss: 0.058559 [38400 / 60000]\n",
      "loss: 0.065853 [44800 / 60000]\n",
      "loss: 0.035867 [51200 / 60000]\n",
      "loss: 0.010184 [57600 / 60000]\n",
      "Test Error: \n",
      " Accuracy: 97.8% Avg loss: 0.077994 \n",
      "\n",
      "Beginning of epoch 3\n",
      "loss: 0.090427 [    0 / 60000]\n",
      "loss: 0.030682 [ 6400 / 60000]\n",
      "loss: 0.030046 [12800 / 60000]\n",
      "loss: 0.102744 [19200 / 60000]\n",
      "loss: 0.010451 [25600 / 60000]\n",
      "loss: 0.032568 [32000 / 60000]\n",
      "loss: 0.080549 [38400 / 60000]\n",
      "loss: 0.010233 [44800 / 60000]\n",
      "loss: 0.098220 [51200 / 60000]\n",
      "loss: 0.005530 [57600 / 60000]\n",
      "Test Error: \n",
      " Accuracy: 97.7% Avg loss: 0.077668 \n",
      "\n",
      "Beginning of epoch 4\n",
      "loss: 0.031474 [    0 / 60000]\n",
      "loss: 0.040658 [ 6400 / 60000]\n",
      "loss: 0.035615 [12800 / 60000]\n",
      "loss: 0.012220 [19200 / 60000]\n",
      "loss: 0.073313 [25600 / 60000]\n",
      "loss: 0.021122 [32000 / 60000]\n",
      "loss: 0.010846 [38400 / 60000]\n",
      "loss: 0.067076 [44800 / 60000]\n",
      "loss: 0.006904 [51200 / 60000]\n",
      "loss: 0.105009 [57600 / 60000]\n",
      "Test Error: \n",
      " Accuracy: 97.5% Avg loss: 0.084682 \n",
      "\n",
      "Finished training\n"
     ]
    }
   ],
   "source": [
    "# train\n",
    "for epoch in range(epochs):\n",
    "    print(f\"Beginning of epoch {epoch}\")\n",
    "    train(train_dataloader, model, loss_fn, optimizer)\n",
    "    test(test_dataloader, model, loss_fn)\n",
    "print(\"Finished training\")"
   ]
  },
  {
   "cell_type": "code",
   "execution_count": 244,
   "metadata": {},
   "outputs": [
    {
     "data": {
      "image/png": "[encoded data removed]",
      "text/plain": [
       "<Figure size 1000x500 with 2 Axes>"
      ]
     },
     "metadata": {},
     "output_type": "display_data"
    }
   ],
   "source": [
    "cpu_params = [x.cpu() for x in model.parameters()]\n",
    "cpu_grads = [(x.grad).cpu() for x in model.parameters()]\n",
    "\n",
    "with torch.no_grad():\n",
    "    params = torch.concat([torch.flatten(x) for x in cpu_params])\n",
    "    grads = torch.concat([torch.flatten(x) for x in cpu_grads])\n",
    "fig, (ax1, ax2) = plt.subplots(1, 2, figsize=(10,5))\n",
    "ax1.hist(params, bins=40)\n",
    "ax2.hist(grads, bins=40, range=(-1e-2, 1e-2))\n",
    "plt.show()"
   ]
  },
  {
   "cell_type": "code",
   "execution_count": 335,
   "metadata": {},
   "outputs": [],
   "source": [
    "class myConvNet(nn.Module):\n",
    "    def __init__(self):\n",
    "        super().__init__()\n",
    "        self.conv1 = nn.Conv2d(1, 6, 5, padding=2) # (1, 28, 28) -> (6, 28, 28)\n",
    "        self.avg_pool1 = nn.AvgPool2d(2)           # (6, 28, 28) -> (6, 14, 14)\n",
    "        self.conv2 = nn.Conv2d(6, 16, 5)           # (6, 14, 14) -> (16, 10, 10)\n",
    "        self.avg_pool2 = nn.AvgPool2d(2)            # (16, 10, 10) -> (16, 5, 5)\n",
    "        self.fc1 = nn.Linear(16 * 5 * 5, 128)      # (16, 5, 5) -> 120\n",
    "        self.relu = nn.ReLU()\n",
    "        self.fc2 = nn.Linear(128, 64)              # 120 -> 10\n",
    "        self.fc3 = nn.Linear(64, 10)\n",
    "    \n",
    "    def forward(self, x):\n",
    "        x = self.conv1(x)\n",
    "        x = self.avg_pool1(x)\n",
    "        x = self.conv2(x)\n",
    "        x = self.avg_pool2(x)\n",
    "        x = self.relu(self.fc1(x.reshape(-1, 16 * 5 * 5)))\n",
    "        x = self.relu(self.fc2(x))\n",
    "        logits = self.fc3(x)\n",
    "        return logits"
   ]
  },
  {
   "cell_type": "code",
   "execution_count": 336,
   "metadata": {},
   "outputs": [
    {
     "data": {
      "text/plain": [
       "'\\nX = torch.randn(1, 28, 28)\\nsoftmax = nn.Softmax(0)\\nwith torch.no_grad():\\n    pred = conv_model(X)\\n    print(softmax(pred))\\n'"
      ]
     },
     "execution_count": 336,
     "metadata": {},
     "output_type": "execute_result"
    }
   ],
   "source": [
    "conv_model = myConvNet().to(device)\n",
    "\"\"\"\n",
    "X = torch.randn(1, 28, 28)\n",
    "softmax = nn.Softmax(0)\n",
    "with torch.no_grad():\n",
    "    pred = conv_model(X)\n",
    "    print(softmax(pred))\n",
    "\"\"\""
   ]
  },
  {
   "cell_type": "code",
   "execution_count": 337,
   "metadata": {},
   "outputs": [],
   "source": [
    "conv_loss = nn.CrossEntropyLoss()\n",
    "conv_optim = torch.optim.Adam(conv_model.parameters())"
   ]
  },
  {
   "cell_type": "code",
   "execution_count": 338,
   "metadata": {},
   "outputs": [
    {
     "name": "stdout",
     "output_type": "stream",
     "text": [
      "Beginning of epoch 0\n",
      "loss: 2.299733 [    0 / 60000]\n",
      "loss: 0.617626 [ 3200 / 60000]\n",
      "loss: 0.573116 [ 6400 / 60000]\n",
      "loss: 0.145199 [ 9600 / 60000]\n",
      "loss: 0.382670 [12800 / 60000]\n",
      "loss: 0.284393 [16000 / 60000]\n",
      "loss: 0.139285 [19200 / 60000]\n",
      "loss: 0.045530 [22400 / 60000]\n",
      "loss: 0.237496 [25600 / 60000]\n",
      "loss: 0.079974 [28800 / 60000]\n",
      "loss: 0.045839 [32000 / 60000]\n",
      "loss: 0.020477 [35200 / 60000]\n",
      "loss: 0.115798 [38400 / 60000]\n",
      "loss: 0.167810 [41600 / 60000]\n",
      "loss: 0.132332 [44800 / 60000]\n",
      "loss: 0.146535 [48000 / 60000]\n",
      "loss: 0.137280 [51200 / 60000]\n",
      "loss: 0.036943 [54400 / 60000]\n",
      "loss: 0.197895 [57600 / 60000]\n",
      "Test Error: \n",
      " Accuracy: 96.1% Avg loss: 0.119429 \n",
      "\n",
      "Beginning of epoch 1\n",
      "loss: 0.070662 [    0 / 60000]\n",
      "loss: 0.157237 [ 3200 / 60000]\n",
      "loss: 0.110988 [ 6400 / 60000]\n",
      "loss: 0.147215 [ 9600 / 60000]\n",
      "loss: 0.120296 [12800 / 60000]\n",
      "loss: 0.075157 [16000 / 60000]\n",
      "loss: 0.060083 [19200 / 60000]\n",
      "loss: 0.082967 [22400 / 60000]\n",
      "loss: 0.065125 [25600 / 60000]\n",
      "loss: 0.087120 [28800 / 60000]\n",
      "loss: 0.138802 [32000 / 60000]\n",
      "loss: 0.099047 [35200 / 60000]\n",
      "loss: 0.059747 [38400 / 60000]\n",
      "loss: 0.161247 [41600 / 60000]\n",
      "loss: 0.029547 [44800 / 60000]\n",
      "loss: 0.136152 [48000 / 60000]\n",
      "loss: 0.070022 [51200 / 60000]\n",
      "loss: 0.187463 [54400 / 60000]\n",
      "loss: 0.139318 [57600 / 60000]\n",
      "Test Error: \n",
      " Accuracy: 96.4% Avg loss: 0.111971 \n",
      "\n",
      "Beginning of epoch 2\n",
      "loss: 0.097852 [    0 / 60000]\n",
      "loss: 0.067435 [ 3200 / 60000]\n",
      "loss: 0.004469 [ 6400 / 60000]\n",
      "loss: 0.012447 [ 9600 / 60000]\n",
      "loss: 0.053650 [12800 / 60000]\n",
      "loss: 0.002029 [16000 / 60000]\n",
      "loss: 0.133781 [19200 / 60000]\n",
      "loss: 0.048217 [22400 / 60000]\n",
      "loss: 0.276915 [25600 / 60000]\n",
      "loss: 0.081259 [28800 / 60000]\n",
      "loss: 0.082752 [32000 / 60000]\n",
      "loss: 0.020581 [35200 / 60000]\n",
      "loss: 0.093734 [38400 / 60000]\n",
      "loss: 0.018377 [41600 / 60000]\n",
      "loss: 0.005615 [44800 / 60000]\n",
      "loss: 0.007171 [48000 / 60000]\n",
      "loss: 0.042593 [51200 / 60000]\n",
      "loss: 0.069119 [54400 / 60000]\n",
      "loss: 0.020266 [57600 / 60000]\n",
      "Test Error: \n",
      " Accuracy: 96.5% Avg loss: 0.106600 \n",
      "\n",
      "Beginning of epoch 3\n",
      "loss: 0.141024 [    0 / 60000]\n",
      "loss: 0.017506 [ 3200 / 60000]\n",
      "loss: 0.233025 [ 6400 / 60000]\n",
      "loss: 0.083082 [ 9600 / 60000]\n",
      "loss: 0.123949 [12800 / 60000]\n",
      "loss: 0.027430 [16000 / 60000]\n",
      "loss: 0.029253 [19200 / 60000]\n",
      "loss: 0.026794 [22400 / 60000]\n",
      "loss: 0.407394 [25600 / 60000]\n",
      "loss: 0.004578 [28800 / 60000]\n",
      "loss: 0.084275 [32000 / 60000]\n",
      "loss: 0.048645 [35200 / 60000]\n",
      "loss: 0.004878 [38400 / 60000]\n",
      "loss: 0.041275 [41600 / 60000]\n",
      "loss: 0.010051 [44800 / 60000]\n",
      "loss: 0.004797 [48000 / 60000]\n",
      "loss: 0.027556 [51200 / 60000]\n",
      "loss: 0.120613 [54400 / 60000]\n",
      "loss: 0.008128 [57600 / 60000]\n",
      "Test Error: \n",
      " Accuracy: 97.5% Avg loss: 0.072676 \n",
      "\n",
      "Beginning of epoch 4\n",
      "loss: 0.003802 [    0 / 60000]\n",
      "loss: 0.027924 [ 3200 / 60000]\n",
      "loss: 0.005336 [ 6400 / 60000]\n",
      "loss: 0.012134 [ 9600 / 60000]\n",
      "loss: 0.129947 [12800 / 60000]\n",
      "loss: 0.018743 [16000 / 60000]\n",
      "loss: 0.234178 [19200 / 60000]\n",
      "loss: 0.009397 [22400 / 60000]\n",
      "loss: 0.030233 [25600 / 60000]\n",
      "loss: 0.083744 [28800 / 60000]\n",
      "loss: 0.111764 [32000 / 60000]\n",
      "loss: 0.003785 [35200 / 60000]\n",
      "loss: 0.029472 [38400 / 60000]\n",
      "loss: 0.169258 [41600 / 60000]\n",
      "loss: 0.175470 [44800 / 60000]\n",
      "loss: 0.017047 [48000 / 60000]\n",
      "loss: 0.010236 [51200 / 60000]\n",
      "loss: 0.009650 [54400 / 60000]\n",
      "loss: 0.069322 [57600 / 60000]\n",
      "Test Error: \n",
      " Accuracy: 97.4% Avg loss: 0.079115 \n",
      "\n",
      "Finished training\n"
     ]
    }
   ],
   "source": [
    "for epoch in range(epochs):\n",
    "    print(f\"Beginning of epoch {epoch}\")\n",
    "    train(train_dataloader, conv_model, conv_loss, conv_optim)\n",
    "    test(test_dataloader, conv_model, conv_loss)\n",
    "print(\"Finished training\")"
   ]
  },
  {
   "cell_type": "code",
   "execution_count": 330,
   "metadata": {},
   "outputs": [
    {
     "data": {
      "image/png": "[encoded data removed]",
      "text/plain": [
       "<Figure size 1500x1000 with 6 Axes>"
      ]
     },
     "metadata": {},
     "output_type": "display_data"
    }
   ],
   "source": [
    "import numpy as np\n",
    "ffilters = [x for x in conv_model.conv1.parameters()]\n",
    "ffilters = [x.cpu().detach() for x in ffilters[0].squeeze()]\n",
    "rows, cols = 2, 3\n",
    "fig, axs = plt.subplots(rows, cols, figsize=(15,10))\n",
    "for i in range(rows):\n",
    "    for j in range(cols):\n",
    "        axs[i, j].imshow(ffilters[i*cols + j])"
   ]
  },
  {
   "cell_type": "code",
   "execution_count": 331,
   "metadata": {},
   "outputs": [],
   "source": [
    "tfilters = [x.cpu().detach().squeeze() for x in conv_model.conv2.parameters()]\n",
    "tfilters[0].shape\n",
    "tfilters = tfilters[0] + tfilters[1].reshape(16,1,1,1)"
   ]
  },
  {
   "cell_type": "code",
   "execution_count": 332,
   "metadata": {},
   "outputs": [],
   "source": [
    "def visualize_filter(filter_num):\n",
    "    fig2, ax2 = plt.subplots(rows, cols, figsize=(15,10))\n",
    "    for i in range(rows):\n",
    "        for j in range(cols):\n",
    "            ax2[i, j].imshow(tfilters[filter_num, i*cols + j, :, :].reshape(5, 5))\n",
    "    plt.show()"
   ]
  },
  {
   "cell_type": "code",
   "execution_count": 334,
   "metadata": {},
   "outputs": [
    {
     "data": {
      "image/png": "[encoded data removed]",
      "text/plain": [
       "<Figure size 1500x1000 with 6 Axes>"
      ]
     },
     "metadata": {},
     "output_type": "display_data"
    }
   ],
   "source": [
    "visualize_filter(10)"
   ]
  },
  {
   "cell_type": "code",
   "execution_count": null,
   "metadata": {},
   "outputs": [],
   "source": []
  }
 ],
 "metadata": {
  "kernelspec": {
   "display_name": "servenv",
   "language": "python",
   "name": "python3"
  },
  "language_info": {
   "codemirror_mode": {
    "name": "ipython",
    "version": 3
   },
   "file_extension": ".py",
   "mimetype": "text/x-python",
   "name": "python",
   "nbconvert_exporter": "python",
   "pygments_lexer": "ipython3",
   "version": "3.7.15"
  },
  "orig_nbformat": 4,
  "vscode": {
   "interpreter": {
    "hash": "55648f42626d88bdf5e4907bbd5471c8bc8b8e65ed05c166aa1ccbf10fcfb999"
   }
  }
 },
 "nbformat": 4,
 "nbformat_minor": 2
}
